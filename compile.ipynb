{
 "cells": [
  {
   "cell_type": "markdown",
   "metadata": {},
   "source": [
    "# Loading precomputed results "
   ]
  },
  {
   "cell_type": "code",
   "execution_count": 1,
   "metadata": {},
   "outputs": [],
   "source": [
    "from matbench.bench import MatbenchBenchmark\n",
    "import os \n",
    "from pathlib import Path \n",
    "from fastcore.xtras import load_pickle"
   ]
  },
  {
   "cell_type": "code",
   "execution_count": 13,
   "metadata": {},
   "outputs": [
    {
     "name": "stdout",
     "output_type": "stream",
     "text": [
      "2023-02-27 09:21:01 INFO     Initialized benchmark 'matbench_v0.1' with 2 tasks: \n",
      "['matbench_expt_gap', 'matbench_steels']\n"
     ]
    }
   ],
   "source": [
    "mb = MatbenchBenchmark(\n",
    "    autoload=True,\n",
    "    subset=[\n",
    "        \"matbench_expt_gap\",\n",
    "        \"matbench_steels\",\n",
    "       # \"matbench_glass\",\n",
    "     #   \"matbench_expt_is_metal\",\n",
    "    ],\n",
    ")"
   ]
  },
  {
   "cell_type": "code",
   "execution_count": 14,
   "metadata": {},
   "outputs": [
    {
     "name": "stdout",
     "output_type": "stream",
     "text": [
      "2023-02-27 09:21:02 INFO     Dataset matbench_expt_gap already loaded; not reloading dataset.\n",
      "Skipping fold 0 of matbench_expt_gap. File exists.\n",
      "2023-02-27 09:21:02 INFO     Recorded fold matbench_expt_gap-0 successfully.\n",
      "Skipping fold 1 of matbench_expt_gap. File exists.\n",
      "2023-02-27 09:21:02 INFO     Recorded fold matbench_expt_gap-1 successfully.\n",
      "Skipping fold 2 of matbench_expt_gap. File exists.\n",
      "2023-02-27 09:21:02 INFO     Recorded fold matbench_expt_gap-2 successfully.\n",
      "Skipping fold 3 of matbench_expt_gap. File exists.\n",
      "2023-02-27 09:21:02 INFO     Recorded fold matbench_expt_gap-3 successfully.\n",
      "Skipping fold 4 of matbench_expt_gap. File exists.\n",
      "2023-02-27 09:21:02 INFO     Recorded fold matbench_expt_gap-4 successfully.\n",
      "2023-02-27 09:21:02 INFO     Dataset matbench_steels already loaded; not reloading dataset.\n",
      "Skipping fold 0 of matbench_steels. File exists.\n",
      "2023-02-27 09:21:02 INFO     Recorded fold matbench_steels-0 successfully.\n",
      "Skipping fold 1 of matbench_steels. File exists.\n",
      "2023-02-27 09:21:02 INFO     Recorded fold matbench_steels-1 successfully.\n",
      "Skipping fold 2 of matbench_steels. File exists.\n",
      "2023-02-27 09:21:02 INFO     Recorded fold matbench_steels-2 successfully.\n",
      "Skipping fold 3 of matbench_steels. File exists.\n",
      "2023-02-27 09:21:02 INFO     Recorded fold matbench_steels-3 successfully.\n",
      "Skipping fold 4 of matbench_steels. File exists.\n",
      "2023-02-27 09:21:02 INFO     Recorded fold matbench_steels-4 successfully.\n"
     ]
    }
   ],
   "source": [
    "\n",
    "for task in mb.tasks:\n",
    "    task.load()\n",
    "    for fold_ind, fold in enumerate(task.folds):\n",
    "        if task.is_recorded[fold_ind]:\n",
    "            print(f\"Skipping fold {fold_ind} of {task.dataset_name}\")\n",
    "            continue\n",
    "\n",
    "        outname = os.path.join(\"results\", f\"{task.dataset_name}_{fold}.pkl\")\n",
    "        if (\n",
    "            Path(outname).exists()\n",
    "            and load_pickle(outname) is not None\n",
    "            and sum([x is not None for x in load_pickle(outname)])\n",
    "            == len(load_pickle(outname))\n",
    "        ):\n",
    "            print(f\"Skipping fold {fold_ind} of {task.dataset_name}. File exists.\")\n",
    "            pred = load_pickle(outname)\n",
    "        else:\n",
    "           raise ValueError(f\"No predictions found for this task {outname}\")\n",
    "        task.record(fold, pred)"
   ]
  },
  {
   "cell_type": "code",
   "execution_count": 12,
   "metadata": {},
   "outputs": [],
   "source": [
    "load_pickle(\"/Users/kevinmaikjablonka/git/kjappelbaum/gptchem-matbench/results/matbench_expt_is_metal_0.pkl\")"
   ]
  },
  {
   "cell_type": "code",
   "execution_count": null,
   "metadata": {},
   "outputs": [],
   "source": []
  }
 ],
 "metadata": {
  "kernelspec": {
   "display_name": "gptchem",
   "language": "python",
   "name": "python3"
  },
  "language_info": {
   "codemirror_mode": {
    "name": "ipython",
    "version": 3
   },
   "file_extension": ".py",
   "mimetype": "text/x-python",
   "name": "python",
   "nbconvert_exporter": "python",
   "pygments_lexer": "ipython3",
   "version": "3.9.15"
  },
  "orig_nbformat": 4,
  "vscode": {
   "interpreter": {
    "hash": "2f3b9074e5baa1438c27e2ea813f7f53b7516c83bd70840b6d64eae6820ee5df"
   }
  }
 },
 "nbformat": 4,
 "nbformat_minor": 2
}
